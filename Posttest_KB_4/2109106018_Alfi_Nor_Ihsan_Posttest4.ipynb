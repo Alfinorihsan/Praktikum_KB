{
 "cells": [
  {
   "cell_type": "markdown",
   "metadata": {},
   "source": [
    "# POSTTEST 4 KECERDASAN BUATAN "
   ]
  },
  {
   "cell_type": "markdown",
   "metadata": {},
   "source": [
    "ALFI NOR IHSAN\n",
    "\n",
    "2109106018\n",
    "\n",
    "A1-21\n",
    "\n",
    "Dataset yang digunakan : [Airline_Passenger_Satisfaction](https://www.kaggle.com/datasets/teejmahal20/airline-passenger-satisfaction) "
   ]
  },
  {
   "cell_type": "markdown",
   "metadata": {},
   "source": [
    "-Ketentuan Preprocessing-\n",
    "\n",
    "• Bagi dataset menjadi training set dan testing set dengan proporsi 70:30.\n",
    "\n",
    "• Lakukan normalisasi data pada salah satu attribute menggunakan Min Max scaler (buatlah copy dataset terlebih dahulu).\n",
    "\n",
    "• Lakukan standarisasi pada dataset (buatlah copy dataset terlebih dahulu).\n",
    "\n",
    "• Lakukan Data cleaning pada data dengan nilai null (jika tidak ada nilai null pada dataset, maka buatlah menjadi ada). Ganti nilai null sesuai ketentuan. (bilangan bulat : median/modus, bilangan desimal : mean, tulisan : modus). Nilai plus jika strategy yang digunakan menggunakan 3 nilai.\n",
    "\n",
    "• Lakukan Data cleaning pada data dengan nilai duplikat. (Jika tidak ada nilai duplikat pada dataset, maka buatlah menjadi ada).\n",
    "\n",
    "• Ganti tipe data salah satu attribute angka.\n",
    "\n",
    "• Lakukan one hot encoding pada dataset yang kalian miliki.\n"
   ]
  },
  {
   "cell_type": "markdown",
   "metadata": {},
   "source": [
    "## Import library dan membaca file"
   ]
  },
  {
   "cell_type": "code",
   "execution_count": 162,
   "metadata": {},
   "outputs": [
    {
     "name": "stdout",
     "output_type": "stream",
     "text": [
      "<class 'pandas.core.frame.DataFrame'>\n",
      "RangeIndex: 25976 entries, 0 to 25975\n",
      "Data columns (total 25 columns):\n",
      " #   Column                             Non-Null Count  Dtype  \n",
      "---  ------                             --------------  -----  \n",
      " 0   Unnamed: 0                         25976 non-null  int64  \n",
      " 1   id                                 25976 non-null  int64  \n",
      " 2   Gender                             25976 non-null  object \n",
      " 3   Customer Type                      25976 non-null  object \n",
      " 4   Age                                25976 non-null  int64  \n",
      " 5   Type of Travel                     25976 non-null  object \n",
      " 6   Class                              25976 non-null  object \n",
      " 7   Flight Distance                    25976 non-null  int64  \n",
      " 8   Inflight wifi service              25976 non-null  int64  \n",
      " 9   Departure/Arrival time convenient  25976 non-null  int64  \n",
      " 10  Ease of Online booking             25976 non-null  int64  \n",
      " 11  Gate location                      25976 non-null  int64  \n",
      " 12  Food and drink                     25976 non-null  int64  \n",
      " 13  Online boarding                    25976 non-null  int64  \n",
      " 14  Seat comfort                       25976 non-null  int64  \n",
      " 15  Inflight entertainment             25976 non-null  int64  \n",
      " 16  On-board service                   25976 non-null  int64  \n",
      " 17  Leg room service                   25976 non-null  int64  \n",
      " 18  Baggage handling                   25976 non-null  int64  \n",
      " 19  Checkin service                    25976 non-null  int64  \n",
      " 20  Inflight service                   25976 non-null  int64  \n",
      " 21  Cleanliness                        25976 non-null  int64  \n",
      " 22  Departure Delay in Minutes         25976 non-null  int64  \n",
      " 23  Arrival Delay in Minutes           25893 non-null  float64\n",
      " 24  satisfaction                       25976 non-null  object \n",
      "dtypes: float64(1), int64(19), object(5)\n",
      "memory usage: 5.0+ MB\n"
     ]
    }
   ],
   "source": [
    "# Import numpy dan pandas\n",
    "import numpy as np\n",
    "import pandas as pd\n",
    "\n",
    "# Membaca file dataset\n",
    "df_pertama = pd.read_csv(\"Airline_Passenger_Satisfaction.csv\")\n",
    "\n",
    "df_pertama.info()"
   ]
  },
  {
   "cell_type": "markdown",
   "metadata": {},
   "source": [
    "## Mengecek data\n",
    "\n",
    "Untuk mengecek apakah data sudah sesuai dengan jumlah minimal"
   ]
  },
  {
   "cell_type": "code",
   "execution_count": 163,
   "metadata": {},
   "outputs": [
    {
     "data": {
      "text/plain": [
       "(25976, 25)"
      ]
     },
     "execution_count": 163,
     "metadata": {},
     "output_type": "execute_result"
    }
   ],
   "source": [
    "df_pertama.shape"
   ]
  },
  {
   "cell_type": "code",
   "execution_count": 164,
   "metadata": {},
   "outputs": [
    {
     "data": {
      "text/html": [
       "<div>\n",
       "<style scoped>\n",
       "    .dataframe tbody tr th:only-of-type {\n",
       "        vertical-align: middle;\n",
       "    }\n",
       "\n",
       "    .dataframe tbody tr th {\n",
       "        vertical-align: top;\n",
       "    }\n",
       "\n",
       "    .dataframe thead th {\n",
       "        text-align: right;\n",
       "    }\n",
       "</style>\n",
       "<table border=\"1\" class=\"dataframe\">\n",
       "  <thead>\n",
       "    <tr style=\"text-align: right;\">\n",
       "      <th></th>\n",
       "      <th>Unnamed: 0</th>\n",
       "      <th>id</th>\n",
       "      <th>Gender</th>\n",
       "      <th>Customer Type</th>\n",
       "      <th>Age</th>\n",
       "      <th>Type of Travel</th>\n",
       "      <th>Class</th>\n",
       "      <th>Flight Distance</th>\n",
       "      <th>Inflight wifi service</th>\n",
       "      <th>Departure/Arrival time convenient</th>\n",
       "      <th>...</th>\n",
       "      <th>Inflight entertainment</th>\n",
       "      <th>On-board service</th>\n",
       "      <th>Leg room service</th>\n",
       "      <th>Baggage handling</th>\n",
       "      <th>Checkin service</th>\n",
       "      <th>Inflight service</th>\n",
       "      <th>Cleanliness</th>\n",
       "      <th>Departure Delay in Minutes</th>\n",
       "      <th>Arrival Delay in Minutes</th>\n",
       "      <th>satisfaction</th>\n",
       "    </tr>\n",
       "  </thead>\n",
       "  <tbody>\n",
       "    <tr>\n",
       "      <th>0</th>\n",
       "      <td>0</td>\n",
       "      <td>19556</td>\n",
       "      <td>Female</td>\n",
       "      <td>Loyal Customer</td>\n",
       "      <td>52</td>\n",
       "      <td>Business travel</td>\n",
       "      <td>Eco</td>\n",
       "      <td>160</td>\n",
       "      <td>5</td>\n",
       "      <td>4</td>\n",
       "      <td>...</td>\n",
       "      <td>5</td>\n",
       "      <td>5</td>\n",
       "      <td>5</td>\n",
       "      <td>5</td>\n",
       "      <td>2</td>\n",
       "      <td>5</td>\n",
       "      <td>5</td>\n",
       "      <td>50</td>\n",
       "      <td>44.0</td>\n",
       "      <td>satisfied</td>\n",
       "    </tr>\n",
       "    <tr>\n",
       "      <th>1</th>\n",
       "      <td>1</td>\n",
       "      <td>90035</td>\n",
       "      <td>Female</td>\n",
       "      <td>Loyal Customer</td>\n",
       "      <td>36</td>\n",
       "      <td>Business travel</td>\n",
       "      <td>Business</td>\n",
       "      <td>2863</td>\n",
       "      <td>1</td>\n",
       "      <td>1</td>\n",
       "      <td>...</td>\n",
       "      <td>4</td>\n",
       "      <td>4</td>\n",
       "      <td>4</td>\n",
       "      <td>4</td>\n",
       "      <td>3</td>\n",
       "      <td>4</td>\n",
       "      <td>5</td>\n",
       "      <td>0</td>\n",
       "      <td>0.0</td>\n",
       "      <td>satisfied</td>\n",
       "    </tr>\n",
       "    <tr>\n",
       "      <th>2</th>\n",
       "      <td>2</td>\n",
       "      <td>12360</td>\n",
       "      <td>Male</td>\n",
       "      <td>disloyal Customer</td>\n",
       "      <td>20</td>\n",
       "      <td>Business travel</td>\n",
       "      <td>Eco</td>\n",
       "      <td>192</td>\n",
       "      <td>2</td>\n",
       "      <td>0</td>\n",
       "      <td>...</td>\n",
       "      <td>2</td>\n",
       "      <td>4</td>\n",
       "      <td>1</td>\n",
       "      <td>3</td>\n",
       "      <td>2</td>\n",
       "      <td>2</td>\n",
       "      <td>2</td>\n",
       "      <td>0</td>\n",
       "      <td>0.0</td>\n",
       "      <td>neutral or dissatisfied</td>\n",
       "    </tr>\n",
       "    <tr>\n",
       "      <th>3</th>\n",
       "      <td>3</td>\n",
       "      <td>77959</td>\n",
       "      <td>Male</td>\n",
       "      <td>Loyal Customer</td>\n",
       "      <td>44</td>\n",
       "      <td>Business travel</td>\n",
       "      <td>Business</td>\n",
       "      <td>3377</td>\n",
       "      <td>0</td>\n",
       "      <td>0</td>\n",
       "      <td>...</td>\n",
       "      <td>1</td>\n",
       "      <td>1</td>\n",
       "      <td>1</td>\n",
       "      <td>1</td>\n",
       "      <td>3</td>\n",
       "      <td>1</td>\n",
       "      <td>4</td>\n",
       "      <td>0</td>\n",
       "      <td>6.0</td>\n",
       "      <td>satisfied</td>\n",
       "    </tr>\n",
       "    <tr>\n",
       "      <th>4</th>\n",
       "      <td>4</td>\n",
       "      <td>36875</td>\n",
       "      <td>Female</td>\n",
       "      <td>Loyal Customer</td>\n",
       "      <td>49</td>\n",
       "      <td>Business travel</td>\n",
       "      <td>Eco</td>\n",
       "      <td>1182</td>\n",
       "      <td>2</td>\n",
       "      <td>3</td>\n",
       "      <td>...</td>\n",
       "      <td>2</td>\n",
       "      <td>2</td>\n",
       "      <td>2</td>\n",
       "      <td>2</td>\n",
       "      <td>4</td>\n",
       "      <td>2</td>\n",
       "      <td>4</td>\n",
       "      <td>0</td>\n",
       "      <td>20.0</td>\n",
       "      <td>satisfied</td>\n",
       "    </tr>\n",
       "  </tbody>\n",
       "</table>\n",
       "<p>5 rows × 25 columns</p>\n",
       "</div>"
      ],
      "text/plain": [
       "   Unnamed: 0     id  Gender      Customer Type  Age   Type of Travel  \\\n",
       "0           0  19556  Female     Loyal Customer   52  Business travel   \n",
       "1           1  90035  Female     Loyal Customer   36  Business travel   \n",
       "2           2  12360    Male  disloyal Customer   20  Business travel   \n",
       "3           3  77959    Male     Loyal Customer   44  Business travel   \n",
       "4           4  36875  Female     Loyal Customer   49  Business travel   \n",
       "\n",
       "      Class  Flight Distance  Inflight wifi service  \\\n",
       "0       Eco              160                      5   \n",
       "1  Business             2863                      1   \n",
       "2       Eco              192                      2   \n",
       "3  Business             3377                      0   \n",
       "4       Eco             1182                      2   \n",
       "\n",
       "   Departure/Arrival time convenient  ...  Inflight entertainment  \\\n",
       "0                                  4  ...                       5   \n",
       "1                                  1  ...                       4   \n",
       "2                                  0  ...                       2   \n",
       "3                                  0  ...                       1   \n",
       "4                                  3  ...                       2   \n",
       "\n",
       "   On-board service  Leg room service  Baggage handling  Checkin service  \\\n",
       "0                 5                 5                 5                2   \n",
       "1                 4                 4                 4                3   \n",
       "2                 4                 1                 3                2   \n",
       "3                 1                 1                 1                3   \n",
       "4                 2                 2                 2                4   \n",
       "\n",
       "   Inflight service  Cleanliness  Departure Delay in Minutes  \\\n",
       "0                 5            5                          50   \n",
       "1                 4            5                           0   \n",
       "2                 2            2                           0   \n",
       "3                 1            4                           0   \n",
       "4                 2            4                           0   \n",
       "\n",
       "   Arrival Delay in Minutes             satisfaction  \n",
       "0                      44.0                satisfied  \n",
       "1                       0.0                satisfied  \n",
       "2                       0.0  neutral or dissatisfied  \n",
       "3                       6.0                satisfied  \n",
       "4                      20.0                satisfied  \n",
       "\n",
       "[5 rows x 25 columns]"
      ]
     },
     "execution_count": 164,
     "metadata": {},
     "output_type": "execute_result"
    }
   ],
   "source": [
    "df_pertama.head()"
   ]
  },
  {
   "cell_type": "markdown",
   "metadata": {},
   "source": [
    "## Membagi Data training dan testing "
   ]
  },
  {
   "cell_type": "code",
   "execution_count": 165,
   "metadata": {},
   "outputs": [
    {
     "name": "stdout",
     "output_type": "stream",
     "text": [
      "Pembagian ukuran Dataset : \n",
      "Ukuran X_train (18183, 24)\n",
      "Ukuran X_test (7793, 24)\n",
      "Ukuran y_train (18183,)\n",
      "Ukuran y_test (7793,)\n"
     ]
    }
   ],
   "source": [
    "from sklearn.model_selection import train_test_split\n",
    "\n",
    "# Pembatas dari ukuran dataset\n",
    "X = df_pertama.iloc[:, : -1]\n",
    "y = df_pertama.iloc[:, -1]\n",
    "\n",
    "X_train, X_test, y_train, y_test = train_test_split(X, y, test_size=0.3)\n",
    "\n",
    "print(\"Pembagian ukuran Dataset : \")\n",
    "\n",
    "# Ukuran dari x\n",
    "print(\"Ukuran X_train\", X_train.shape)\n",
    "print(\"Ukuran X_test\", X_test.shape)\n",
    "\n",
    "# Ukuran daru y\n",
    "print(\"Ukuran y_train\", y_train.shape)\n",
    "print(\"Ukuran y_test\", y_test.shape)"
   ]
  },
  {
   "cell_type": "markdown",
   "metadata": {},
   "source": [
    "## Data Transforming"
   ]
  },
  {
   "cell_type": "markdown",
   "metadata": {},
   "source": [
    "## Melakukan normalisasi data pada salah satu attribute"
   ]
  },
  {
   "cell_type": "code",
   "execution_count": 166,
   "metadata": {},
   "outputs": [
    {
     "name": "stdout",
     "output_type": "stream",
     "text": [
      "Hasil akhir normalisasi : \n"
     ]
    },
    {
     "data": {
      "text/html": [
       "<div>\n",
       "<style scoped>\n",
       "    .dataframe tbody tr th:only-of-type {\n",
       "        vertical-align: middle;\n",
       "    }\n",
       "\n",
       "    .dataframe tbody tr th {\n",
       "        vertical-align: top;\n",
       "    }\n",
       "\n",
       "    .dataframe thead th {\n",
       "        text-align: right;\n",
       "    }\n",
       "</style>\n",
       "<table border=\"1\" class=\"dataframe\">\n",
       "  <thead>\n",
       "    <tr style=\"text-align: right;\">\n",
       "      <th></th>\n",
       "      <th>Flight Distance</th>\n",
       "      <th>Normalisasi Flight Distance</th>\n",
       "    </tr>\n",
       "  </thead>\n",
       "  <tbody>\n",
       "    <tr>\n",
       "      <th>0</th>\n",
       "      <td>160</td>\n",
       "      <td>0.026050</td>\n",
       "    </tr>\n",
       "    <tr>\n",
       "      <th>1</th>\n",
       "      <td>2863</td>\n",
       "      <td>0.571890</td>\n",
       "    </tr>\n",
       "    <tr>\n",
       "      <th>2</th>\n",
       "      <td>192</td>\n",
       "      <td>0.032512</td>\n",
       "    </tr>\n",
       "    <tr>\n",
       "      <th>3</th>\n",
       "      <td>3377</td>\n",
       "      <td>0.675687</td>\n",
       "    </tr>\n",
       "    <tr>\n",
       "      <th>4</th>\n",
       "      <td>1182</td>\n",
       "      <td>0.232431</td>\n",
       "    </tr>\n",
       "  </tbody>\n",
       "</table>\n",
       "</div>"
      ],
      "text/plain": [
       "   Flight Distance  Normalisasi Flight Distance\n",
       "0              160                     0.026050\n",
       "1             2863                     0.571890\n",
       "2              192                     0.032512\n",
       "3             3377                     0.675687\n",
       "4             1182                     0.232431"
      ]
     },
     "execution_count": 166,
     "metadata": {},
     "output_type": "execute_result"
    }
   ],
   "source": [
    "from sklearn.preprocessing import MinMaxScaler\n",
    "\n",
    "normalisasi_data = df_pertama[[\"Flight Distance\"]]\n",
    "normalisasi_data.columns = [\"Flight Distance\"]\n",
    "\n",
    "min_maxs = MinMaxScaler()\n",
    "normalisasi = min_maxs.fit_transform(normalisasi_data[[\"Flight Distance\"]])\n",
    "dfN = pd.DataFrame(normalisasi)\n",
    "dfN.columns =[\"Normalisasi Flight Distance\"]\n",
    "\n",
    "normalisasi_data = normalisasi_data.join(dfN[\"Normalisasi Flight Distance\"]).reset_index()\n",
    "normalisasi_data = normalisasi_data.drop(\"index\", axis=1)\n",
    "\n",
    "print(\"Hasil akhir normalisasi : \")\n",
    "normalisasi_data.head()"
   ]
  },
  {
   "cell_type": "markdown",
   "metadata": {},
   "source": [
    "## Melakukan standarisasi pada dataset"
   ]
  },
  {
   "cell_type": "code",
   "execution_count": 167,
   "metadata": {},
   "outputs": [
    {
     "name": "stdout",
     "output_type": "stream",
     "text": [
      "Data sebelum di standarisasi : \n"
     ]
    },
    {
     "data": {
      "text/plain": [
       "Age                                   15.135394\n",
       "Flight Distance                      998.664776\n",
       "Inflight wifi service                  1.335358\n",
       "Departure/Arrival time convenient      1.533341\n",
       "dtype: float64"
      ]
     },
     "execution_count": 167,
     "metadata": {},
     "output_type": "execute_result"
    }
   ],
   "source": [
    "from sklearn.preprocessing import StandardScaler\n",
    "\n",
    "df_kedua = df_pertama[[\"Age\", \"Flight Distance\" , \"Inflight wifi service\", \"Departure/Arrival time convenient\"]]\n",
    "\n",
    "standard_scaler = StandardScaler()\n",
    "standarisasi = standard_scaler.fit_transform(df_kedua)\n",
    "df_Standarisasi = pd.DataFrame(standarisasi)\n",
    "df_Standarisasi.columns = [\"Age\", \"Flight Distance\" , \"Inflight wifi service\", \"Departure/Arrival time convenient\"]\n",
    "\n",
    "print(\"Data sebelum di standarisasi : \")\n",
    "np.std(df_kedua)"
   ]
  },
  {
   "cell_type": "code",
   "execution_count": 168,
   "metadata": {},
   "outputs": [
    {
     "name": "stdout",
     "output_type": "stream",
     "text": [
      "Data sesudah di standarisasi : \n"
     ]
    },
    {
     "data": {
      "text/plain": [
       "Age                                  1.0\n",
       "Flight Distance                      1.0\n",
       "Inflight wifi service                1.0\n",
       "Departure/Arrival time convenient    1.0\n",
       "dtype: float64"
      ]
     },
     "execution_count": 168,
     "metadata": {},
     "output_type": "execute_result"
    }
   ],
   "source": [
    "print(\"Data sesudah di standarisasi : \")\n",
    "np.std(df_Standarisasi)"
   ]
  },
  {
   "cell_type": "markdown",
   "metadata": {},
   "source": [
    "## DATA CLEANING"
   ]
  },
  {
   "cell_type": "markdown",
   "metadata": {},
   "source": [
    "## Melakukan Data cleaning pada data dengan nilai null"
   ]
  },
  {
   "cell_type": "code",
   "execution_count": 169,
   "metadata": {},
   "outputs": [
    {
     "data": {
      "text/plain": [
       "Unnamed: 0                            0\n",
       "id                                    0\n",
       "Gender                                0\n",
       "Customer Type                         0\n",
       "Age                                   0\n",
       "Type of Travel                        0\n",
       "Class                                 0\n",
       "Flight Distance                       0\n",
       "Inflight wifi service                 0\n",
       "Departure/Arrival time convenient     0\n",
       "Ease of Online booking                0\n",
       "Gate location                         0\n",
       "Food and drink                        0\n",
       "Online boarding                       0\n",
       "Seat comfort                          0\n",
       "Inflight entertainment                0\n",
       "On-board service                      0\n",
       "Leg room service                      0\n",
       "Baggage handling                      0\n",
       "Checkin service                       0\n",
       "Inflight service                      0\n",
       "Cleanliness                           0\n",
       "Departure Delay in Minutes            0\n",
       "Arrival Delay in Minutes             83\n",
       "satisfaction                          0\n",
       "dtype: int64"
      ]
     },
     "execution_count": 169,
     "metadata": {},
     "output_type": "execute_result"
    }
   ],
   "source": [
    "# Mengecek apakah terdapat nilai null di dalam data\n",
    "df_pertama = pd.read_csv(\"Airline_Passenger_Satisfaction.csv\")\n",
    "\n",
    "df_pertama.isna().sum()"
   ]
  },
  {
   "cell_type": "markdown",
   "metadata": {},
   "source": [
    "### Di karenakan ada data null pada \"Arrival Delay in Minutes\", maka untuk mengatasinya sebagai berikut : "
   ]
  },
  {
   "cell_type": "code",
   "execution_count": 170,
   "metadata": {},
   "outputs": [
    {
     "data": {
      "text/plain": [
       "Unnamed: 0                           0\n",
       "id                                   0\n",
       "Gender                               0\n",
       "Customer Type                        0\n",
       "Age                                  0\n",
       "Type of Travel                       0\n",
       "Class                                0\n",
       "Flight Distance                      0\n",
       "Inflight wifi service                0\n",
       "Departure/Arrival time convenient    0\n",
       "Ease of Online booking               0\n",
       "Gate location                        0\n",
       "Food and drink                       0\n",
       "Online boarding                      0\n",
       "Seat comfort                         0\n",
       "Inflight entertainment               0\n",
       "On-board service                     0\n",
       "Leg room service                     0\n",
       "Baggage handling                     0\n",
       "Checkin service                      0\n",
       "Inflight service                     0\n",
       "Cleanliness                          0\n",
       "Departure Delay in Minutes           0\n",
       "Arrival Delay in Minutes             0\n",
       "satisfaction                         0\n",
       "dtype: int64"
      ]
     },
     "execution_count": 170,
     "metadata": {},
     "output_type": "execute_result"
    }
   ],
   "source": [
    "from sklearn.impute import SimpleImputer\n",
    "imputer_mean = SimpleImputer(strategy=\"mean\")\n",
    "\n",
    "df_pertama['Arrival Delay in Minutes'] = imputer_mean.fit_transform(df_pertama[['Arrival Delay in Minutes']])\n",
    "\n",
    "df_pertama.isna().sum()"
   ]
  },
  {
   "cell_type": "markdown",
   "metadata": {},
   "source": [
    "## Melakukan Data cleaning pada data dengan nilai duplikat"
   ]
  },
  {
   "cell_type": "code",
   "execution_count": 171,
   "metadata": {},
   "outputs": [
    {
     "name": "stdout",
     "output_type": "stream",
     "text": [
      "Data Duplikat : \n"
     ]
    },
    {
     "data": {
      "text/plain": [
       "0"
      ]
     },
     "execution_count": 171,
     "metadata": {},
     "output_type": "execute_result"
    }
   ],
   "source": [
    "df_pertama[df_pertama.duplicated()]\n",
    "\n",
    "print(\"Data Duplikat : \")\n",
    "df_pertama.duplicated().sum()"
   ]
  },
  {
   "cell_type": "markdown",
   "metadata": {},
   "source": [
    "### Dikarenakan dataset yang di gunakan tidak memiliki nilai duplikat, maka untuk membuatnya yaitu:"
   ]
  },
  {
   "cell_type": "code",
   "execution_count": 172,
   "metadata": {},
   "outputs": [
    {
     "data": {
      "text/plain": [
       "0        False\n",
       "1        False\n",
       "2        False\n",
       "3        False\n",
       "4        False\n",
       "         ...  \n",
       "51947     True\n",
       "51948     True\n",
       "51949     True\n",
       "51950     True\n",
       "51951     True\n",
       "Length: 51952, dtype: bool"
      ]
     },
     "execution_count": 172,
     "metadata": {},
     "output_type": "execute_result"
    }
   ],
   "source": [
    "df_sama = pd.concat([df_pertama]*2, ignore_index=True)\n",
    "df_sama.duplicated()"
   ]
  },
  {
   "cell_type": "code",
   "execution_count": 173,
   "metadata": {},
   "outputs": [
    {
     "name": "stdout",
     "output_type": "stream",
     "text": [
      "Jumlah Data Duplikat : \n"
     ]
    },
    {
     "data": {
      "text/plain": [
       "25976"
      ]
     },
     "execution_count": 173,
     "metadata": {},
     "output_type": "execute_result"
    }
   ],
   "source": [
    "print(\"Jumlah Data Duplikat : \")\n",
    "df_sama.duplicated().sum()"
   ]
  },
  {
   "cell_type": "markdown",
   "metadata": {},
   "source": [
    "### Dan berikut merupakan cara untuk menghapus data duplikat:"
   ]
  },
  {
   "cell_type": "code",
   "execution_count": 174,
   "metadata": {},
   "outputs": [
    {
     "data": {
      "text/plain": [
       "0        False\n",
       "1        False\n",
       "2        False\n",
       "3        False\n",
       "4        False\n",
       "         ...  \n",
       "25971    False\n",
       "25972    False\n",
       "25973    False\n",
       "25974    False\n",
       "25975    False\n",
       "Length: 25976, dtype: bool"
      ]
     },
     "execution_count": 174,
     "metadata": {},
     "output_type": "execute_result"
    }
   ],
   "source": [
    "df_sama.drop_duplicates(inplace = True)\n",
    "df_sama.duplicated()"
   ]
  },
  {
   "cell_type": "code",
   "execution_count": 175,
   "metadata": {},
   "outputs": [
    {
     "name": "stdout",
     "output_type": "stream",
     "text": [
      "Jumlah duplikat : \n"
     ]
    },
    {
     "data": {
      "text/plain": [
       "0"
      ]
     },
     "execution_count": 175,
     "metadata": {},
     "output_type": "execute_result"
    }
   ],
   "source": [
    "print(\"Jumlah duplikat : \")\n",
    "df_sama.duplicated().sum()"
   ]
  },
  {
   "cell_type": "markdown",
   "metadata": {},
   "source": [
    "## Mengganti tipe data salah satu attribute angka"
   ]
  },
  {
   "cell_type": "markdown",
   "metadata": {},
   "source": [
    "Untuk mengganti tipe data dari attribute angka ke float dapat :"
   ]
  },
  {
   "cell_type": "code",
   "execution_count": 176,
   "metadata": {},
   "outputs": [
    {
     "name": "stdout",
     "output_type": "stream",
     "text": [
      "Tipe data sebelum di ubah :  int64\n",
      "Tipe data sesudah di ubah :  float64\n"
     ]
    }
   ],
   "source": [
    "print(\"Tipe data sebelum di ubah : \", df_pertama[\"Flight Distance\"].dtypes)\n",
    "df_ubah_tipe = df_pertama[[\"Flight Distance\"]].astype(float)\n",
    "print(\"Tipe data sesudah di ubah : \", df_ubah_tipe[\"Flight Distance\"].dtypes)"
   ]
  },
  {
   "cell_type": "markdown",
   "metadata": {},
   "source": [
    "## Melakukan one hot encoding pada dataset"
   ]
  },
  {
   "cell_type": "code",
   "execution_count": 177,
   "metadata": {},
   "outputs": [
    {
     "data": {
      "text/html": [
       "<div>\n",
       "<style scoped>\n",
       "    .dataframe tbody tr th:only-of-type {\n",
       "        vertical-align: middle;\n",
       "    }\n",
       "\n",
       "    .dataframe tbody tr th {\n",
       "        vertical-align: top;\n",
       "    }\n",
       "\n",
       "    .dataframe thead th {\n",
       "        text-align: right;\n",
       "    }\n",
       "</style>\n",
       "<table border=\"1\" class=\"dataframe\">\n",
       "  <thead>\n",
       "    <tr style=\"text-align: right;\">\n",
       "      <th></th>\n",
       "      <th>Gender</th>\n",
       "      <th>0</th>\n",
       "      <th>1</th>\n",
       "    </tr>\n",
       "  </thead>\n",
       "  <tbody>\n",
       "    <tr>\n",
       "      <th>0</th>\n",
       "      <td>Female</td>\n",
       "      <td>1.0</td>\n",
       "      <td>0.0</td>\n",
       "    </tr>\n",
       "    <tr>\n",
       "      <th>1</th>\n",
       "      <td>Female</td>\n",
       "      <td>1.0</td>\n",
       "      <td>0.0</td>\n",
       "    </tr>\n",
       "    <tr>\n",
       "      <th>2</th>\n",
       "      <td>Male</td>\n",
       "      <td>0.0</td>\n",
       "      <td>1.0</td>\n",
       "    </tr>\n",
       "    <tr>\n",
       "      <th>3</th>\n",
       "      <td>Male</td>\n",
       "      <td>0.0</td>\n",
       "      <td>1.0</td>\n",
       "    </tr>\n",
       "    <tr>\n",
       "      <th>4</th>\n",
       "      <td>Female</td>\n",
       "      <td>1.0</td>\n",
       "      <td>0.0</td>\n",
       "    </tr>\n",
       "  </tbody>\n",
       "</table>\n",
       "</div>"
      ],
      "text/plain": [
       "   Gender    0    1\n",
       "0  Female  1.0  0.0\n",
       "1  Female  1.0  0.0\n",
       "2    Male  0.0  1.0\n",
       "3    Male  0.0  1.0\n",
       "4  Female  1.0  0.0"
      ]
     },
     "execution_count": 177,
     "metadata": {},
     "output_type": "execute_result"
    }
   ],
   "source": [
    "from sklearn.preprocessing import OneHotEncoder\n",
    "one_hot_encode = OneHotEncoder(sparse=False)\n",
    "\n",
    "onehot = one_hot_encode.fit_transform(df_pertama[[\"Gender\"]])\n",
    "df_onehot_encoding = pd.DataFrame(onehot)\n",
    "df_ketiga = df_pertama[['Gender']].join(df_onehot_encoding)\n",
    "\n",
    "df_ketiga.head()"
   ]
  }
 ],
 "metadata": {
  "kernelspec": {
   "display_name": "Python 3.10.7 64-bit",
   "language": "python",
   "name": "python3"
  },
  "language_info": {
   "codemirror_mode": {
    "name": "ipython",
    "version": 3
   },
   "file_extension": ".py",
   "mimetype": "text/x-python",
   "name": "python",
   "nbconvert_exporter": "python",
   "pygments_lexer": "ipython3",
   "version": "3.10.7"
  },
  "orig_nbformat": 4,
  "vscode": {
   "interpreter": {
    "hash": "26de051ba29f2982a8de78e945f0abaf191376122a1563185a90213a26c5da77"
   }
  }
 },
 "nbformat": 4,
 "nbformat_minor": 2
}
