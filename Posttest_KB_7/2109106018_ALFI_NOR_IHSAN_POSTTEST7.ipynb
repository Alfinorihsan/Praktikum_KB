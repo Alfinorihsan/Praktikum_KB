{
 "cells": [
  {
   "cell_type": "markdown",
   "metadata": {},
   "source": [
    "# POSTTEST 7\n",
    "## Kecerdasan Buatan\n",
    "ALFI NOR IHSAN\n",
    "\n",
    "2109106018\n",
    "\n",
    "A1-21\n",
    "\n",
    "Dataset yang digunakan : [Airline_Passenger_Satisfaction](https://www.kaggle.com/datasets/teejmahal20/airline-passenger-satisfaction)\n",
    "\n",
    "Instruksi :\n",
    "- Buatlah sebuah tensor dengan shape(5,5) dengan nilai random yang disimpan dalam variable random_tensor.\n",
    "- Buatlah sebuah tensor dengan shape(5,5) dari sebuah list dengan nilai bilangan prima dalam variable prime_tensor.\n",
    "- Tampilkan dimensi dari kedua variable tersebut.\n",
    "- Tampilkan hasil dari perhitungan aritmetika 2 variable tersebut (Gunakan minimal 5 operator).\n",
    "- Tampilkan nilai maksimum dan minimum dari variable random_tensor.\n",
    "- Tampilkan hasil dari penggabungan variable random_tensor dengan prime_tensor (concatenation).\n",
    "- Tampilkan hasil sorting dari kedua variable di atas (descending)."
   ]
  },
  {
   "cell_type": "markdown",
   "metadata": {},
   "source": [
    "## Deklarasi Variabel "
   ]
  },
  {
   "cell_type": "code",
   "execution_count": 137,
   "metadata": {},
   "outputs": [],
   "source": [
    "import tensorflow as tf"
   ]
  },
  {
   "cell_type": "markdown",
   "metadata": {},
   "source": [
    "## Membuat sebuah tensor dengan shape(5,5) dengan nilai random yang disimpan dalam variable random_tensor."
   ]
  },
  {
   "cell_type": "code",
   "execution_count": 138,
   "metadata": {},
   "outputs": [
    {
     "name": "stdout",
     "output_type": "stream",
     "text": [
      "tf.Tensor(\n",
      "[[4.9339705 4.8576202 4.656832  5.506004  4.388333 ]\n",
      " [4.9826694 5.158624  3.9325118 5.0596547 4.5669565]\n",
      " [5.7648673 5.095687  7.7204247 6.185311  4.031162 ]\n",
      " [3.9772263 4.2564864 4.3147125 4.9423876 3.8767166]\n",
      " [4.961233  7.3493233 5.2404213 4.4452205 3.0373416]], shape=(5, 5), dtype=float32)\n"
     ]
    }
   ],
   "source": [
    "random_tensor = tf.random.normal((5,5),\n",
    "mean = 5,\n",
    "stddev = 1,\n",
    "seed = 1)\n",
    "\n",
    "print(random_tensor)"
   ]
  },
  {
   "cell_type": "markdown",
   "metadata": {},
   "source": [
    "## Membuat sebuah tensor dengan shape(5,5) dari sebuah list dengan nilai bilangan prima dalam variable prime_tensor"
   ]
  },
  {
   "cell_type": "code",
   "execution_count": 139,
   "metadata": {},
   "outputs": [],
   "source": [
    "prime_tensor = tf.constant([2,3,5,7,11,13,17,19,23,29,31,37,41,43,47,53,59,61,71,73,79,83,89,97,101],\n",
    "shape = (5,5), \n",
    "dtype = tf.float32)"
   ]
  },
  {
   "cell_type": "markdown",
   "metadata": {},
   "source": [
    "## Menampilkan dimensi dari variabel random_tensor dan prime_tensor"
   ]
  },
  {
   "cell_type": "markdown",
   "metadata": {},
   "source": [
    "### random_tensor"
   ]
  },
  {
   "cell_type": "code",
   "execution_count": 140,
   "metadata": {},
   "outputs": [
    {
     "name": "stdout",
     "output_type": "stream",
     "text": [
      "Dimensi variabel Random_Tensor :  (5, 5)\n"
     ]
    }
   ],
   "source": [
    "print('Dimensi variabel random_tensor : ',\n",
    "random_tensor.shape)"
   ]
  },
  {
   "cell_type": "markdown",
   "metadata": {},
   "source": [
    "### prime_tensor"
   ]
  },
  {
   "cell_type": "code",
   "execution_count": 141,
   "metadata": {},
   "outputs": [
    {
     "name": "stdout",
     "output_type": "stream",
     "text": [
      "Dimensi variabel Prime_Tensor :  (5, 5)\n"
     ]
    }
   ],
   "source": [
    "print('Dimensi variabel prime_tensor : ',\n",
    "prime_tensor.shape)"
   ]
  },
  {
   "cell_type": "markdown",
   "metadata": {},
   "source": [
    "## Menampilkan hasil dari perhitungan aritmetika dari variabel random_tensor dan prime_tensor"
   ]
  },
  {
   "cell_type": "markdown",
   "metadata": {},
   "source": [
    "### Penjumlahan"
   ]
  },
  {
   "cell_type": "code",
   "execution_count": 142,
   "metadata": {},
   "outputs": [
    {
     "name": "stdout",
     "output_type": "stream",
     "text": [
      "Penjumlahan :\n",
      " [[  6.9339705   7.8576202   9.656832   12.506004   15.388332 ]\n",
      " [ 17.98267    22.158625   22.932512   28.059654   33.566956 ]\n",
      " [ 36.764866   42.095688   48.720425   49.18531    51.031162 ]\n",
      " [ 56.977226   63.256485   65.31471    75.94239    76.87672  ]\n",
      " [ 83.961235   90.34932    94.24042   101.44522   104.03734  ]]\n"
     ]
    }
   ],
   "source": [
    "print(\"Penjumlahan :\\n\" ,\n",
    "tf.add(random_tensor,prime_tensor).numpy())"
   ]
  },
  {
   "cell_type": "markdown",
   "metadata": {},
   "source": [
    "### Pengurangan"
   ]
  },
  {
   "cell_type": "code",
   "execution_count": 143,
   "metadata": {},
   "outputs": [
    {
     "name": "stdout",
     "output_type": "stream",
     "text": [
      "Pengurangan :\n",
      " [[  2.9339705    1.8576202   -0.34316778  -1.4939961   -6.611667  ]\n",
      " [ -8.01733    -11.841375   -15.067488   -17.940346   -24.433044  ]\n",
      " [-25.235132   -31.904312   -33.279575   -36.81469    -42.968838  ]\n",
      " [-49.022774   -54.743515   -56.685287   -66.05761    -69.12328   ]\n",
      " [-74.038765   -75.65068    -83.75958    -92.55478    -97.96266   ]]\n"
     ]
    }
   ],
   "source": [
    "print(\"Pengurangan :\\n\" ,\n",
    "tf.subtract(random_tensor,prime_tensor).numpy())"
   ]
  },
  {
   "cell_type": "markdown",
   "metadata": {},
   "source": [
    "### Perkalian"
   ]
  },
  {
   "cell_type": "code",
   "execution_count": 144,
   "metadata": {},
   "outputs": [
    {
     "name": "stdout",
     "output_type": "stream",
     "text": [
      "Perkalian :\n",
      " [[  9.867941  14.572861  23.28416   38.542027  48.27166 ]\n",
      " [ 64.774704  87.69661   74.71773  116.372055 132.44174 ]\n",
      " [178.71089  188.54042  316.5374   265.96835  189.4646  ]\n",
      " [210.793    251.1327   263.19745  350.90952  283.0003  ]\n",
      " [391.9374   609.99384  466.3975   431.18637  306.7715  ]]\n"
     ]
    }
   ],
   "source": [
    "print(\"Perkalian :\\n\" ,\n",
    "tf.multiply(random_tensor,prime_tensor).numpy())"
   ]
  },
  {
   "cell_type": "markdown",
   "metadata": {},
   "source": [
    "### Pembagian"
   ]
  },
  {
   "cell_type": "code",
   "execution_count": 145,
   "metadata": {},
   "outputs": [
    {
     "name": "stdout",
     "output_type": "stream",
     "text": [
      "Pembagian :\n",
      " [[2.4669852  1.6192068  0.93136644 0.786572   0.39893934]\n",
      " [0.38328224 0.30344847 0.20697431 0.219985   0.15748125]\n",
      " [0.18596347 0.13772127 0.18830304 0.14384444 0.0857694 ]\n",
      " [0.075042   0.07214384 0.070733   0.06961109 0.05310571]\n",
      " [0.06280042 0.08854606 0.05888114 0.04582702 0.03007269]]\n"
     ]
    }
   ],
   "source": [
    "print(\"Pembagian :\\n\" ,\n",
    "tf.divide(random_tensor,prime_tensor).numpy())"
   ]
  },
  {
   "cell_type": "markdown",
   "metadata": {},
   "source": [
    "### Perpangkatan"
   ]
  },
  {
   "cell_type": "code",
   "execution_count": 146,
   "metadata": {},
   "outputs": [
    {
     "name": "stdout",
     "output_type": "stream",
     "text": [
      "Perpangkatan :\n",
      " [[3.05684280e+01 2.07813553e+02 1.79881311e+03 4.49896953e+04\n",
      "  3.71516172e+04]\n",
      " [3.55149656e+05 2.22547925e+06 1.06835016e+05 7.76019550e+06\n",
      "  4.77208400e+06]\n",
      " [3.95824128e+08 9.79636560e+07 2.82732842e+12 1.26914181e+10\n",
      "  5.50170100e+06]\n",
      " [7.20834000e+06 3.44831960e+07 5.04876320e+07 1.41135501e+09\n",
      "  1.67330340e+07]\n",
      " [2.59758874e+09 1.27035553e+14 1.64295209e+10 6.78638336e+08\n",
      "  1.22407688e+06]]\n"
     ]
    }
   ],
   "source": [
    "print(\"Perpangkatan :\\n\" ,\n",
    "tf.pow(prime_tensor,random_tensor).numpy())"
   ]
  },
  {
   "cell_type": "markdown",
   "metadata": {},
   "source": [
    "### Perkalian Matrix"
   ]
  },
  {
   "cell_type": "code",
   "execution_count": 147,
   "metadata": {},
   "outputs": [
    {
     "name": "stdout",
     "output_type": "stream",
     "text": [
      "Perkalian Matrix:\n",
      " [[ 855.8753   958.7701  1034.3226  1163.1014  1259.1757 ]\n",
      " [ 827.8866   925.72455  999.25824 1124.8553  1219.8549 ]\n",
      " [ 963.3901  1089.0968  1178.2572  1319.7129  1432.7235 ]\n",
      " [ 765.252    857.3046   924.17596 1038.2235  1122.3218 ]\n",
      " [ 743.4634   848.08514  920.7825  1039.334   1145.2764 ]]\n"
     ]
    }
   ],
   "source": [
    "print(\"Perkalian Matrix:\\n\" ,\n",
    "tf.matmul(random_tensor,prime_tensor).numpy())"
   ]
  },
  {
   "cell_type": "markdown",
   "metadata": {},
   "source": [
    "## Menampilkan nilai maksimum dan minimum dari variable random_tensor"
   ]
  },
  {
   "cell_type": "markdown",
   "metadata": {},
   "source": [
    "### Nilai maksimal"
   ]
  },
  {
   "cell_type": "code",
   "execution_count": 148,
   "metadata": {},
   "outputs": [
    {
     "name": "stdout",
     "output_type": "stream",
     "text": [
      "Nilai maksimal variabel random_tensor :  7.7204247\n"
     ]
    }
   ],
   "source": [
    "\n",
    "print(\"Nilai maksimal variabel random_tensor : \", \n",
    "tf.reduce_max(random_tensor).numpy())"
   ]
  },
  {
   "cell_type": "markdown",
   "metadata": {},
   "source": [
    "### Nilai minimal"
   ]
  },
  {
   "cell_type": "code",
   "execution_count": 149,
   "metadata": {},
   "outputs": [
    {
     "name": "stdout",
     "output_type": "stream",
     "text": [
      "Nilai minimal variabel random_tensor :  3.0373416\n"
     ]
    }
   ],
   "source": [
    "print(\"Nilai minimal variabel random_tensor : \", \n",
    "tf.reduce_min(random_tensor).numpy())"
   ]
  },
  {
   "cell_type": "markdown",
   "metadata": {},
   "source": [
    "## Menggabungkan variabel random_tensor dan prime_tensor dengan metode concatenation"
   ]
  },
  {
   "cell_type": "code",
   "execution_count": 150,
   "metadata": {},
   "outputs": [
    {
     "data": {
      "text/plain": [
       "array([[  4.9339705,   4.8576202,   4.656832 ,   5.506004 ,   4.388333 ,\n",
       "          2.       ,   3.       ,   5.       ,   7.       ,  11.       ],\n",
       "       [  4.9826694,   5.158624 ,   3.9325118,   5.0596547,   4.5669565,\n",
       "         13.       ,  17.       ,  19.       ,  23.       ,  29.       ],\n",
       "       [  5.7648673,   5.095687 ,   7.7204247,   6.185311 ,   4.031162 ,\n",
       "         31.       ,  37.       ,  41.       ,  43.       ,  47.       ],\n",
       "       [  3.9772263,   4.2564864,   4.3147125,   4.9423876,   3.8767166,\n",
       "         53.       ,  59.       ,  61.       ,  71.       ,  73.       ],\n",
       "       [  4.961233 ,   7.3493233,   5.2404213,   4.4452205,   3.0373416,\n",
       "         79.       ,  83.       ,  89.       ,  97.       , 101.       ]],\n",
       "      dtype=float32)"
      ]
     },
     "execution_count": 150,
     "metadata": {},
     "output_type": "execute_result"
    }
   ],
   "source": [
    "concatenation =tf.concat([random_tensor,prime_tensor],axis=1)\n",
    "concatenation.numpy()"
   ]
  },
  {
   "cell_type": "markdown",
   "metadata": {},
   "source": [
    "## Menampilkan hasil sorting dari penggabungan variable random_tensor dengan prime_tensor (concatenation), serta menampilkan hasil sorting dari dua variabel secara descending"
   ]
  },
  {
   "cell_type": "code",
   "execution_count": 151,
   "metadata": {},
   "outputs": [
    {
     "name": "stdout",
     "output_type": "stream",
     "text": [
      "Sorting Concatenation :\n",
      " [[ 11.          7.          5.506004    5.          4.9339705   4.8576202\n",
      "    4.656832    4.388333    3.          2.       ]\n",
      " [ 29.         23.         19.         17.         13.          5.158624\n",
      "    5.0596547   4.9826694   4.5669565   3.9325118]\n",
      " [ 47.         43.         41.         37.         31.          7.7204247\n",
      "    6.185311    5.7648673   5.095687    4.031162 ]\n",
      " [ 73.         71.         61.         59.         53.          4.9423876\n",
      "    4.3147125   4.2564864   3.9772263   3.8767166]\n",
      " [101.         97.         89.         83.         79.          7.3493233\n",
      "    5.2404213   4.961233    4.4452205   3.0373416]]\n"
     ]
    }
   ],
   "source": [
    "\n",
    "print(\"Sorting Concatenation :\\n\",\n",
    "tf.sort(concatenation, direction = \"DESCENDING\").numpy())"
   ]
  },
  {
   "cell_type": "code",
   "execution_count": 152,
   "metadata": {},
   "outputs": [
    {
     "name": "stdout",
     "output_type": "stream",
     "text": [
      "Sorting random_tensor :\n",
      " [[5.506004  4.9339705 4.8576202 4.656832  4.388333 ]\n",
      " [5.158624  5.0596547 4.9826694 4.5669565 3.9325118]\n",
      " [7.7204247 6.185311  5.7648673 5.095687  4.031162 ]\n",
      " [4.9423876 4.3147125 4.2564864 3.9772263 3.8767166]\n",
      " [7.3493233 5.2404213 4.961233  4.4452205 3.0373416]]\n"
     ]
    }
   ],
   "source": [
    "print(\"Sorting random_tensor :\\n\",\n",
    "tf.sort(random_tensor,direction = \"DESCENDING\").numpy())"
   ]
  },
  {
   "cell_type": "code",
   "execution_count": 153,
   "metadata": {},
   "outputs": [
    {
     "name": "stdout",
     "output_type": "stream",
     "text": [
      "Sorting random_tensor :\n",
      " [[ 11.   7.   5.   3.   2.]\n",
      " [ 29.  23.  19.  17.  13.]\n",
      " [ 47.  43.  41.  37.  31.]\n",
      " [ 73.  71.  61.  59.  53.]\n",
      " [101.  97.  89.  83.  79.]]\n"
     ]
    }
   ],
   "source": [
    "print(\"Sorting random_tensor :\\n\",\n",
    "tf.sort(prime_tensor,direction = \"DESCENDING\").numpy())"
   ]
  }
 ],
 "metadata": {
  "kernelspec": {
   "display_name": "Python 3.10.7 64-bit",
   "language": "python",
   "name": "python3"
  },
  "language_info": {
   "codemirror_mode": {
    "name": "ipython",
    "version": 3
   },
   "file_extension": ".py",
   "mimetype": "text/x-python",
   "name": "python",
   "nbconvert_exporter": "python",
   "pygments_lexer": "ipython3",
   "version": "3.10.7"
  },
  "orig_nbformat": 4,
  "vscode": {
   "interpreter": {
    "hash": "26de051ba29f2982a8de78e945f0abaf191376122a1563185a90213a26c5da77"
   }
  }
 },
 "nbformat": 4,
 "nbformat_minor": 2
}
